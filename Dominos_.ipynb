{
 "cells": [
  {
   "cell_type": "code",
   "execution_count": 20,
   "id": "2a2d3169-06e4-481c-a4a1-2c96cf331917",
   "metadata": {},
   "outputs": [],
   "source": [
    "import pandas as pd\n",
    "sales = pd.read_csv(r\"C:\\Project_Guvi\\Capstone5\\Pizza_Sale - pizza_sales.csv\")\n",
    "ing = pd.read_csv(r\"C:\\Project_Guvi\\Capstone5\\Pizza_ingredients - Pizza_ingredients.csv\")"
   ]
  },
  {
   "cell_type": "code",
   "execution_count": 22,
   "id": "03ff2e57-434f-43b4-9ea6-103d9bfe13e6",
   "metadata": {},
   "outputs": [
    {
     "name": "stdout",
     "output_type": "stream",
     "text": [
      "pizza_id              0\n",
      "order_id              0\n",
      "pizza_name_id        16\n",
      "quantity              0\n",
      "order_date            0\n",
      "order_time            0\n",
      "unit_price            0\n",
      "total_price           7\n",
      "pizza_size            0\n",
      "pizza_category       23\n",
      "pizza_ingredients    13\n",
      "pizza_name            7\n",
      "dtype: int64\n",
      "Column Names\n",
      "Index(['pizza_id', 'order_id', 'pizza_name_id', 'quantity', 'order_date',\n",
      "       'order_time', 'unit_price', 'total_price', 'pizza_size',\n",
      "       'pizza_category', 'pizza_ingredients', 'pizza_name'],\n",
      "      dtype='object')\n",
      "Info\n",
      "<class 'pandas.core.frame.DataFrame'>\n",
      "RangeIndex: 48620 entries, 0 to 48619\n",
      "Data columns (total 12 columns):\n",
      " #   Column             Non-Null Count  Dtype  \n",
      "---  ------             --------------  -----  \n",
      " 0   pizza_id           48620 non-null  int64  \n",
      " 1   order_id           48620 non-null  int64  \n",
      " 2   pizza_name_id      48604 non-null  object \n",
      " 3   quantity           48620 non-null  int64  \n",
      " 4   order_date         48620 non-null  object \n",
      " 5   order_time         48620 non-null  object \n",
      " 6   unit_price         48620 non-null  float64\n",
      " 7   total_price        48613 non-null  float64\n",
      " 8   pizza_size         48620 non-null  object \n",
      " 9   pizza_category     48597 non-null  object \n",
      " 10  pizza_ingredients  48607 non-null  object \n",
      " 11  pizza_name         48613 non-null  object \n",
      "dtypes: float64(2), int64(3), object(7)\n",
      "memory usage: 4.5+ MB\n",
      "None\n",
      "Duplicated Values\n",
      "0\n",
      "Unique Values\n",
      "pizza_id             48620\n",
      "order_id             21350\n",
      "pizza_name_id           91\n",
      "quantity                 4\n",
      "order_date             358\n",
      "order_time           16382\n",
      "unit_price              25\n",
      "total_price             56\n",
      "pizza_size               5\n",
      "pizza_category           4\n",
      "pizza_ingredients       32\n",
      "pizza_name              32\n",
      "dtype: int64\n"
     ]
    }
   ],
   "source": [
    "print(sales.isnull().sum())\n",
    "print(\"Column Names\")\n",
    "print(sales.columns)\n",
    "print(\"Info\")\n",
    "print(sales.info())\n",
    "print(\"Duplicated Values\")\n",
    "print(sales.duplicated().sum())\n",
    "print(\"Unique Values\")\n",
    "print(sales.nunique())"
   ]
  },
  {
   "cell_type": "code",
   "execution_count": 24,
   "id": "5174d44b-fe54-43d5-b0bb-a76e78eaf0f4",
   "metadata": {},
   "outputs": [
    {
     "data": {
      "text/plain": [
       "quantity                                      [1, 2, 3, 4]\n",
       "pizza_size                              [M, L, S, XL, XXL]\n",
       "pizza_category    [Classic, Veggie, Supreme, Chicken, nan]\n",
       "dtype: object"
      ]
     },
     "execution_count": 24,
     "metadata": {},
     "output_type": "execute_result"
    }
   ],
   "source": [
    "sales[['quantity','pizza_size','pizza_category']].apply(lambda x: x.unique())"
   ]
  },
  {
   "cell_type": "code",
   "execution_count": 26,
   "id": "146ef97f-4bd3-4baf-9cf0-b5433a0f2544",
   "metadata": {},
   "outputs": [],
   "source": [
    "missing_value_columns_name = ['pizza_name_id', 'total_price', 'pizza_category', \n",
    "                               'pizza_ingredients', 'pizza_name']\n",
    "\n",
    "# Function to fill missing values in the specified column using other columns\n",
    "def fill_missing_values(sales, column_to_fill, reference_columns):\n",
    "    for idx, row in sales[sales[column_to_fill].isnull()].iterrows():\n",
    "        ref_values = row[reference_columns]\n",
    "        matching_row = sales[(sales[reference_columns] == ref_values).all(axis=1) & sales[column_to_fill].notnull()]\n",
    "        if not matching_row.empty:\n",
    "            sales.at[idx, column_to_fill] = matching_row[column_to_fill].values[0]\n",
    "\n",
    "# Apply the function to each column with missing values\n",
    "for column in missing_value_columns_name:\n",
    "    ref_columns = [col for col in missing_value_columns_name if col != column]\n",
    "    fill_missing_values(sales, column, ref_columns)    "
   ]
  },
  {
   "cell_type": "code",
   "execution_count": 27,
   "id": "a23ef331-5b91-4e89-890f-4e5b6dd99f41",
   "metadata": {},
   "outputs": [
    {
     "data": {
      "text/plain": [
       "pizza_id             0\n",
       "order_id             0\n",
       "pizza_name_id        0\n",
       "quantity             0\n",
       "order_date           0\n",
       "order_time           0\n",
       "unit_price           0\n",
       "total_price          0\n",
       "pizza_size           0\n",
       "pizza_category       0\n",
       "pizza_ingredients    0\n",
       "pizza_name           0\n",
       "dtype: int64"
      ]
     },
     "execution_count": 27,
     "metadata": {},
     "output_type": "execute_result"
    }
   ],
   "source": [
    "sales.isnull().sum()"
   ]
  },
  {
   "cell_type": "code",
   "execution_count": 30,
   "id": "5daf311f-4b2e-48a9-8f9c-f7588763532e",
   "metadata": {},
   "outputs": [],
   "source": [
    "sales.to_csv(\"C:\\\\Project_Guvi\\\\Capstone5\\\\Update_Sales_data.csv\",index = False)"
   ]
  },
  {
   "cell_type": "code",
   "execution_count": 13,
   "id": "e4fc4c84-dee1-4395-9bc1-56ee34f977f4",
   "metadata": {},
   "outputs": [
    {
     "name": "stdout",
     "output_type": "stream",
     "text": [
      "Missing Value\n",
      "pizza_name_id         0\n",
      "pizza_name            0\n",
      "pizza_ingredients     0\n",
      "Items_Qty_In_Grams    4\n",
      "dtype: int64\n",
      "Columns Name\n",
      "Index(['pizza_name_id', 'pizza_name', 'pizza_ingredients',\n",
      "       'Items_Qty_In_Grams'],\n",
      "      dtype='object')\n",
      "Info\n",
      "<class 'pandas.core.frame.DataFrame'>\n",
      "RangeIndex: 518 entries, 0 to 517\n",
      "Data columns (total 4 columns):\n",
      " #   Column              Non-Null Count  Dtype  \n",
      "---  ------              --------------  -----  \n",
      " 0   pizza_name_id       518 non-null    object \n",
      " 1   pizza_name          518 non-null    object \n",
      " 2   pizza_ingredients   518 non-null    object \n",
      " 3   Items_Qty_In_Grams  514 non-null    float64\n",
      "dtypes: float64(1), object(3)\n",
      "memory usage: 16.3+ KB\n",
      "None\n",
      "Duplicated Values\n",
      "0\n",
      "Unique Values\n",
      "pizza_name_id         91\n",
      "pizza_name            32\n",
      "pizza_ingredients     64\n",
      "Items_Qty_In_Grams    17\n",
      "dtype: int64\n"
     ]
    }
   ],
   "source": [
    "# ingredients dataset\n",
    "print(\"Missing Value\")\n",
    "print(ing.isnull().sum())\n",
    "print(\"Columns Name\")\n",
    "print(ing.columns)\n",
    "print(\"Info\")\n",
    "print(ing.info())\n",
    "print(\"Duplicated Values\")\n",
    "print(ing.duplicated().sum())\n",
    "print(\"Unique Values\")\n",
    "print(ing.nunique())"
   ]
  },
  {
   "cell_type": "code",
   "execution_count": 15,
   "id": "bb451fda-c0ae-4047-b947-7c434e6c913d",
   "metadata": {},
   "outputs": [
    {
     "data": {
      "text/html": [
       "<div>\n",
       "<style scoped>\n",
       "    .dataframe tbody tr th:only-of-type {\n",
       "        vertical-align: middle;\n",
       "    }\n",
       "\n",
       "    .dataframe tbody tr th {\n",
       "        vertical-align: top;\n",
       "    }\n",
       "\n",
       "    .dataframe thead th {\n",
       "        text-align: right;\n",
       "    }\n",
       "</style>\n",
       "<table border=\"1\" class=\"dataframe\">\n",
       "  <thead>\n",
       "    <tr style=\"text-align: right;\">\n",
       "      <th></th>\n",
       "      <th>pizza_name_id</th>\n",
       "      <th>pizza_name</th>\n",
       "      <th>pizza_ingredients</th>\n",
       "      <th>Items_Qty_In_Grams</th>\n",
       "    </tr>\n",
       "  </thead>\n",
       "  <tbody>\n",
       "    <tr>\n",
       "      <th>24</th>\n",
       "      <td>brie_carre_s</td>\n",
       "      <td>The Brie Carre Pizza</td>\n",
       "      <td>Caramelized Onions</td>\n",
       "      <td>NaN</td>\n",
       "    </tr>\n",
       "    <tr>\n",
       "      <th>149</th>\n",
       "      <td>hawaiian_l</td>\n",
       "      <td>The Hawaiian Pizza</td>\n",
       "      <td>Sliced Ham</td>\n",
       "      <td>NaN</td>\n",
       "    </tr>\n",
       "    <tr>\n",
       "      <th>152</th>\n",
       "      <td>hawaiian_m</td>\n",
       "      <td>The Hawaiian Pizza</td>\n",
       "      <td>Sliced Ham</td>\n",
       "      <td>NaN</td>\n",
       "    </tr>\n",
       "    <tr>\n",
       "      <th>155</th>\n",
       "      <td>hawaiian_s</td>\n",
       "      <td>The Hawaiian Pizza</td>\n",
       "      <td>Sliced Ham</td>\n",
       "      <td>NaN</td>\n",
       "    </tr>\n",
       "  </tbody>\n",
       "</table>\n",
       "</div>"
      ],
      "text/plain": [
       "    pizza_name_id            pizza_name   pizza_ingredients  \\\n",
       "24   brie_carre_s  The Brie Carre Pizza  Caramelized Onions   \n",
       "149    hawaiian_l    The Hawaiian Pizza          Sliced Ham   \n",
       "152    hawaiian_m    The Hawaiian Pizza          Sliced Ham   \n",
       "155    hawaiian_s    The Hawaiian Pizza          Sliced Ham   \n",
       "\n",
       "     Items_Qty_In_Grams  \n",
       "24                  NaN  \n",
       "149                 NaN  \n",
       "152                 NaN  \n",
       "155                 NaN  "
      ]
     },
     "execution_count": 15,
     "metadata": {},
     "output_type": "execute_result"
    }
   ],
   "source": [
    "# rows with missing value\n",
    "ing[ing['Items_Qty_In_Grams'].isnull()]"
   ]
  },
  {
   "cell_type": "code",
   "execution_count": 17,
   "id": "9cc46b1d-b35f-425e-8b90-652125631cc6",
   "metadata": {},
   "outputs": [],
   "source": [
    "# filling missing values in \"Items_Qty_In_Grams\" column\n",
    "import pandas as pd\n",
    "import numpy as np\n",
    "\n",
    "# Step 1: Create a new 'pizza_size' column by extracting the last character from 'pizza_name_id'\n",
    "ing['pizza_size'] = ing['pizza_name_id'].str[-1]\n",
    "\n",
    "# Step 2: Map the extracted character to actual size labels\n",
    "size_mapping = {'s': 'S', 'm': 'M', 'l': 'L'}\n",
    "ing['pizza_size'] = ing['pizza_size'].map(size_mapping)\n",
    "\n",
    "# Step 3: Calculate the average 'Items_Qty_In_Grams' for each 'pizza_size'\n",
    "average_qty_by_size = ing.groupby('pizza_size')['Items_Qty_In_Grams'].mean().round()\n",
    "\n",
    "# Step 4: Fill missing values using the average for the corresponding pizza size\n",
    "def fill_missing_values(row):\n",
    "    if pd.isna(row['Items_Qty_In_Grams']):\n",
    "        return average_qty_by_size.get(row['pizza_size'], np.nan)\n",
    "    return row['Items_Qty_In_Grams']\n",
    "\n",
    "# Apply the function to fill missing values\n",
    "ing['Items_Qty_In_Grams'] = ing.apply(fill_missing_values, axis=1)\n",
    "\n",
    "ing = ing.drop(['pizza_size'],axis=1)\n",
    "\n",
    "# Save the updated dataset\n",
    "ing.to_csv('C:\\\\Project_Guvi\\\\Capstone5\\\\Updated_ingredients_data.csv', index=False)\n",
    "\n",
    "\n"
   ]
  },
  {
   "cell_type": "code",
   "execution_count": 1,
   "id": "cb2da21a-3276-4da9-ac90-110057dcfadb",
   "metadata": {},
   "outputs": [],
   "source": [
    "# cleaned dataset\n",
    "import pandas as pd\n",
    "dfs = pd.read_csv('C:\\\\Project_Guvi\\\\Capstone5\\\\Updated_Pizza_sales.csv')\n",
    "ings = pd.read_csv('C:\\\\Project_Guvi\\\\Capstone5\\\\Updated_Pizza_ing.csv')"
   ]
  },
  {
   "cell_type": "code",
   "execution_count": null,
   "id": "1e88c88e-842f-4292-a76c-3895aa52b658",
   "metadata": {},
   "outputs": [],
   "source": [
    "dfs"
   ]
  },
  {
   "cell_type": "code",
   "execution_count": 5,
   "id": "5b71c091-9dd7-4134-bf69-03be3a8b8ef5",
   "metadata": {},
   "outputs": [],
   "source": [
    "def parse_dates(date):\n",
    "  for fmt in ('%d-%m-%Y', '%d/%m/%Y'):\n",
    "    try:\n",
    "      return pd.to_datetime(date, format=fmt)\n",
    "    except ValueError:\n",
    "      pass\n",
    "  raise ValueError(f'no valid date format found for {date}')\n",
    "\n",
    "dfs['order_date'] = dfs['order_date'].apply(parse_dates)\n",
    "\n",
    "def extra_features_from_date(df):\n",
    "    df['day_of_week'] = df['order_date'].dt.weekday +1 #Starts with 1 as Monday to 7 as Sunday\n",
    "    df['day_of_year'] = df['order_date'].dt.dayofyear \n",
    "    df['day_of_month'] = df['order_date'].dt.day\n",
    "    df['week_of_year'] = df['order_date'].dt.strftime('%W') #week starts on Monday, new year days preceeding the first monday is week 0\n",
    "    df['month'] = df['order_date'].dt.month    \n",
    "    return df\n"
   ]
  },
  {
   "cell_type": "code",
   "execution_count": 7,
   "id": "f32e5dc5-9ac3-4547-9de3-b7edafbae2b5",
   "metadata": {},
   "outputs": [
    {
     "data": {
      "text/html": [
       "<div>\n",
       "<style scoped>\n",
       "    .dataframe tbody tr th:only-of-type {\n",
       "        vertical-align: middle;\n",
       "    }\n",
       "\n",
       "    .dataframe tbody tr th {\n",
       "        vertical-align: top;\n",
       "    }\n",
       "\n",
       "    .dataframe thead th {\n",
       "        text-align: right;\n",
       "    }\n",
       "</style>\n",
       "<table border=\"1\" class=\"dataframe\">\n",
       "  <thead>\n",
       "    <tr style=\"text-align: right;\">\n",
       "      <th></th>\n",
       "      <th>pizza_id</th>\n",
       "      <th>order_id</th>\n",
       "      <th>pizza_name_id</th>\n",
       "      <th>quantity</th>\n",
       "      <th>order_date</th>\n",
       "      <th>order_time</th>\n",
       "      <th>unit_price</th>\n",
       "      <th>total_price</th>\n",
       "      <th>pizza_size</th>\n",
       "      <th>pizza_category</th>\n",
       "      <th>pizza_ingredients</th>\n",
       "      <th>pizza_name</th>\n",
       "      <th>day_of_week</th>\n",
       "      <th>day_of_year</th>\n",
       "      <th>day_of_month</th>\n",
       "      <th>week_of_year</th>\n",
       "      <th>month</th>\n",
       "    </tr>\n",
       "  </thead>\n",
       "  <tbody>\n",
       "    <tr>\n",
       "      <th>0</th>\n",
       "      <td>1</td>\n",
       "      <td>1</td>\n",
       "      <td>hawaiian_m</td>\n",
       "      <td>1</td>\n",
       "      <td>2015-01-01</td>\n",
       "      <td>11:38:36</td>\n",
       "      <td>13.25</td>\n",
       "      <td>13.25</td>\n",
       "      <td>M</td>\n",
       "      <td>Classic</td>\n",
       "      <td>Sliced Ham, Pineapple, Mozzarella Cheese</td>\n",
       "      <td>The Hawaiian Pizza</td>\n",
       "      <td>4</td>\n",
       "      <td>1</td>\n",
       "      <td>1</td>\n",
       "      <td>00</td>\n",
       "      <td>1</td>\n",
       "    </tr>\n",
       "    <tr>\n",
       "      <th>1</th>\n",
       "      <td>2</td>\n",
       "      <td>2</td>\n",
       "      <td>classic_dlx_m</td>\n",
       "      <td>1</td>\n",
       "      <td>2015-01-01</td>\n",
       "      <td>11:57:40</td>\n",
       "      <td>16.00</td>\n",
       "      <td>16.00</td>\n",
       "      <td>M</td>\n",
       "      <td>Classic</td>\n",
       "      <td>Pepperoni, Mushrooms, Red Onions, Red Peppers,...</td>\n",
       "      <td>The Classic Deluxe Pizza</td>\n",
       "      <td>4</td>\n",
       "      <td>1</td>\n",
       "      <td>1</td>\n",
       "      <td>00</td>\n",
       "      <td>1</td>\n",
       "    </tr>\n",
       "  </tbody>\n",
       "</table>\n",
       "</div>"
      ],
      "text/plain": [
       "   pizza_id  order_id  pizza_name_id  quantity order_date order_time  \\\n",
       "0         1         1     hawaiian_m         1 2015-01-01   11:38:36   \n",
       "1         2         2  classic_dlx_m         1 2015-01-01   11:57:40   \n",
       "\n",
       "   unit_price  total_price pizza_size pizza_category  \\\n",
       "0       13.25        13.25          M        Classic   \n",
       "1       16.00        16.00          M        Classic   \n",
       "\n",
       "                                   pizza_ingredients  \\\n",
       "0           Sliced Ham, Pineapple, Mozzarella Cheese   \n",
       "1  Pepperoni, Mushrooms, Red Onions, Red Peppers,...   \n",
       "\n",
       "                 pizza_name  day_of_week  day_of_year  day_of_month  \\\n",
       "0        The Hawaiian Pizza            4            1             1   \n",
       "1  The Classic Deluxe Pizza            4            1             1   \n",
       "\n",
       "  week_of_year  month  \n",
       "0           00      1  \n",
       "1           00      1  "
      ]
     },
     "execution_count": 7,
     "metadata": {},
     "output_type": "execute_result"
    }
   ],
   "source": [
    "extra_features_from_date(dfs)\n",
    "dfs.head(2)"
   ]
  },
  {
   "cell_type": "code",
   "execution_count": 9,
   "id": "7ada54a7-85c9-4082-9e38-b865a6a10b1d",
   "metadata": {},
   "outputs": [
    {
     "data": {
      "image/png": "[encoded data removed]",
      "text/plain": [
       "<Figure size 1400x600 with 2 Axes>"
      ]
     },
     "metadata": {},
     "output_type": "display_data"
    }
   ],
   "source": [
    "import pandas as pd\n",
    "import matplotlib.pyplot as plt\n",
    "from statsmodels.graphics.tsaplots import plot_acf, plot_pacf\n",
    "\n",
    "# Aggregate the sales data to daily level\n",
    "daily_sales = dfs.groupby('order_date').agg({'quantity': 'sum'}).reset_index()\n",
    "\n",
    "# Plot ACF and PACF\n",
    "plt.figure(figsize=(14, 6))\n",
    "\n",
    "# Plot ACF\n",
    "plt.subplot(1, 2, 1)\n",
    "plot_acf(daily_sales['quantity'], lags=30, ax=plt.gca())\n",
    "plt.title('Autocorrelation Function (ACF)')\n",
    "\n",
    "# Plot PACF\n",
    "plt.subplot(1, 2, 2)\n",
    "plot_pacf(daily_sales['quantity'], lags=30, ax=plt.gca())\n",
    "plt.title('Partial Autocorrelation Function (PACF)')\n",
    "\n",
    "plt.tight_layout()\n",
    "plt.show()\n"
   ]
  },
  {
   "cell_type": "markdown",
   "id": "3f8feb89-3253-417c-b258-1d2f420f59fb",
   "metadata": {},
   "source": [
    "d = 0,p =1,q =1"
   ]
  },
  {
   "cell_type": "code",
   "execution_count": 12,
   "id": "879949ad-06c9-4702-b815-67d101b53418",
   "metadata": {},
   "outputs": [
    {
     "name": "stdout",
     "output_type": "stream",
     "text": [
      "ADF Statistic: -5.220180249748951\n",
      "p-value: 7.995231865646661e-06\n",
      "Critical Values 1%: -3.4496162602188187\n",
      "Critical Values 5%: -2.870028369720798\n",
      "Critical Values 10%: -2.5712922615505627\n"
     ]
    }
   ],
   "source": [
    "from statsmodels.tsa.stattools import adfuller\n",
    "\n",
    "# Perform the Augmented Dickey-Fuller test\n",
    "result = adfuller(daily_sales['quantity'])\n",
    "print('ADF Statistic:', result[0])\n",
    "print('p-value:', result[1])\n",
    "for key, value in result[4].items():\n",
    "    print(f'Critical Values {key}: {value}')\n"
   ]
  },
  {
   "cell_type": "code",
   "execution_count": 16,
   "id": "d21cde4c-e904-4308-b36e-9528cc91ced8",
   "metadata": {},
   "outputs": [
    {
     "name": "stderr",
     "output_type": "stream",
     "text": [
      "C:\\ProgramData\\anaconda3\\Lib\\site-packages\\statsmodels\\tsa\\base\\tsa_model.py:473: ValueWarning: A date index has been provided, but it has no associated frequency information and so will be ignored when e.g. forecasting.\n",
      "  self._init_dates(dates, freq)\n",
      "C:\\ProgramData\\anaconda3\\Lib\\site-packages\\statsmodels\\tsa\\base\\tsa_model.py:473: ValueWarning: A date index has been provided, but it has no associated frequency information and so will be ignored when e.g. forecasting.\n",
      "  self._init_dates(dates, freq)\n",
      "C:\\ProgramData\\anaconda3\\Lib\\site-packages\\statsmodels\\tsa\\base\\tsa_model.py:473: ValueWarning: A date index has been provided, but it has no associated frequency information and so will be ignored when e.g. forecasting.\n",
      "  self._init_dates(dates, freq)\n"
     ]
    },
    {
     "name": "stdout",
     "output_type": "stream",
     "text": [
      "Overall MAPE: 16.54%\n"
     ]
    },
    {
     "name": "stderr",
     "output_type": "stream",
     "text": [
      "C:\\ProgramData\\anaconda3\\Lib\\site-packages\\statsmodels\\tsa\\base\\tsa_model.py:836: ValueWarning: No supported index is available. Prediction results will be given with an integer index beginning at `start`.\n",
      "  return get_prediction_index(\n",
      "C:\\ProgramData\\anaconda3\\Lib\\site-packages\\statsmodels\\tsa\\base\\tsa_model.py:836: FutureWarning: No supported index is available. In the next version, calling this method in a model without a supported index will result in an exception.\n",
      "  return get_prediction_index(\n"
     ]
    }
   ],
   "source": [
    "import pandas as pd\n",
    "import numpy as np\n",
    "from statsmodels.tsa.arima.model import ARIMA\n",
    "from sklearn.metrics import mean_absolute_percentage_error\n",
    "\n",
    "# Grouping the data by 'order_date' and summing 'quantity'\n",
    "daily_sales = dfs.groupby('order_date')['quantity'].sum().reset_index()\n",
    "\n",
    "# Function to train ARIMA model and calculate overall MAPE\n",
    "def evaluate_arima_model_overall(data, p, d, q):\n",
    "    actual_values = []\n",
    "    predicted_values = []\n",
    "    \n",
    "    # Set 'order_date' as index\n",
    "    data.set_index('order_date', inplace=True)\n",
    "    \n",
    "    # Split the data into training and testing sets (80-20 split)\n",
    "    split_point = int(len(data) * 0.8)\n",
    "    train, test = data['quantity'][:split_point], data['quantity'][split_point:]\n",
    "    \n",
    "    # Build the ARIMA model\n",
    "    model = ARIMA(train, order=(p, d, q))\n",
    "    fitted_model = model.fit()\n",
    "    \n",
    "    # Forecast for the length of the test set\n",
    "    forecast = fitted_model.forecast(steps=len(test))\n",
    "    \n",
    "    # Collect actual and predicted values for overall MAPE calculation\n",
    "    actual_values.extend(test.values)\n",
    "    predicted_values.extend(forecast)\n",
    "    \n",
    "    # Calculate overall MAPE\n",
    "    overall_mape = mean_absolute_percentage_error(actual_values, predicted_values)\n",
    "    \n",
    "    return overall_mape\n",
    "\n",
    "# Evaluate the model with the chosen p, d, q values\n",
    "p, d, q = 1, 0, 1\n",
    "overall_mape = evaluate_arima_model_overall(daily_sales, p, d, q)\n",
    "\n",
    "# Display the overall MAPE\n",
    "print(f'Overall MAPE: {overall_mape:.2%}')\n"
   ]
  },
  {
   "cell_type": "code",
   "execution_count": 18,
   "id": "1f829ea9-2453-4739-8e82-fad06051b2b6",
   "metadata": {},
   "outputs": [
    {
     "name": "stdout",
     "output_type": "stream",
     "text": [
      "Day 1 Sales Prediction: 78\n",
      "Day 2 Sales Prediction: 68\n",
      "Day 3 Sales Prediction: 81\n",
      "Day 4 Sales Prediction: 83\n",
      "Day 5 Sales Prediction: 52\n",
      "Day 6 Sales Prediction: 67\n",
      "Day 7 Sales Prediction: 78\n",
      "                 Ingredient     Quantity\n",
      "0         Barbecued Chicken   501.428571\n",
      "1               Red Peppers  1671.428571\n",
      "2             Green Peppers   919.285714\n",
      "3                  Tomatoes  6518.571429\n",
      "4                Red Onions  9694.285714\n",
      "..                      ...          ...\n",
      "59                   Onions   334.285714\n",
      "60       Soppressata Salami  1671.428571\n",
      "61        Peperoncini verdi   167.142857\n",
      "62  Thai Sweet Chilli Sauce   334.285714\n",
      "63         Beef Chuck Roast  3175.714286\n",
      "\n",
      "[64 rows x 2 columns]\n"
     ]
    }
   ],
   "source": [
    "import pandas as pd\n",
    "import numpy as np\n",
    "\n",
    "# Load the data\n",
    "pizza_sales_data = pd.read_csv('C:\\\\Project_Guvi\\\\Capstone5\\\\Updated_Pizza_sales.csv')\n",
    "ingredients_data = pd.read_csv('C:\\\\Project_Guvi\\\\Capstone5\\\\Updated_Pizza_ing.csv')\n",
    "\n",
    "predictions = np.random.randint(50, 100, size=7)  # Replace this with the actual ARIMA model's forecast\n",
    "\n",
    "# Function to calculate ingredient requirements based on predicted sales\n",
    "def calculate_ingredients(predicted_sales, ingredient_data):\n",
    "    # Initialize a dictionary to hold ingredient requirements\n",
    "    ingredient_requirements = {}\n",
    "\n",
    "    # For each predicted day of sales\n",
    "    for i, daily_sales in enumerate(predicted_sales):\n",
    "        print(f\"Day {i + 1} Sales Prediction: {daily_sales}\")\n",
    "\n",
    "        # Get unique pizza types from the ingredient dataset\n",
    "        unique_pizza_types = ingredient_data['pizza_name_id'].unique()\n",
    "        num_pizza_types = len(unique_pizza_types)\n",
    "\n",
    "        # Proportionally distribute sales across pizza types\n",
    "        for pizza in unique_pizza_types:\n",
    "            pizza_sales = daily_sales / num_pizza_types  # Simple proportional split\n",
    "            ingredients_for_pizza = ingredient_data[ingredient_data['pizza_name_id'] == pizza]\n",
    "\n",
    "            # Calculate the required ingredients for each pizza type\n",
    "            for _, row in ingredients_for_pizza.iterrows():\n",
    "                ingredient = row['pizza_ingredients']\n",
    "                quantity_needed = pizza_sales * row['Items_Qty_In_Grams']\n",
    "\n",
    "                # Add up the quantities required for the predicted period\n",
    "                if ingredient in ingredient_requirements:\n",
    "                    ingredient_requirements[ingredient] += quantity_needed\n",
    "                else:\n",
    "                    ingredient_requirements[ingredient] = quantity_needed\n",
    "\n",
    "    return ingredient_requirements\n",
    "\n",
    "# Calculate the ingredients required for the predicted sales\n",
    "ingredient_requirements = calculate_ingredients(predictions, ingredients_data)\n",
    "\n",
    "# Create a purchase order DataFrame\n",
    "purchase_order = pd.DataFrame(ingredient_requirements.items(), columns=['Ingredient', 'Quantity'])\n",
    "\n",
    "# Display the purchase order\n",
    "print(purchase_order)\n"
   ]
  },
  {
   "cell_type": "code",
   "execution_count": null,
   "id": "2e61b3dc-36f4-4a1c-ac2b-e094952019de",
   "metadata": {},
   "outputs": [],
   "source": []
  }
 ],
 "metadata": {
  "kernelspec": {
   "display_name": "Python 3 (ipykernel)",
   "language": "python",
   "name": "python3"
  },
  "language_info": {
   "codemirror_mode": {
    "name": "ipython",
    "version": 3
   },
   "file_extension": ".py",
   "mimetype": "text/x-python",
   "name": "python",
   "nbconvert_exporter": "python",
   "pygments_lexer": "ipython3",
   "version": "3.11.7"
  },
  "widgets": {
   "application/vnd.jupyter.widget-state+json": {
    "state": {},
    "version_major": 2,
    "version_minor": 0
   }
  }
 },
 "nbformat": 4,
 "nbformat_minor": 5
}
